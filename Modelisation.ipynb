{
 "cells": [
  {
   "cell_type": "markdown",
   "metadata": {},
   "source": [
    "[<img  align=\"right\" src=\"https://www.gustaveroussy.fr/sites/all/themes/gustave_roussy/logo.png\">](https://www.gustaveroussy.fr/)\n",
    "# ScreenFail prediction \n",
    "*Modelisation with Random Forest to predict if a patient will be Screen Fail or not*"
   ]
  },
  {
   "cell_type": "markdown",
   "metadata": {},
   "source": [
    "### "
   ]
  },
  {
   "cell_type": "code",
   "execution_count": 32,
   "metadata": {},
   "outputs": [],
   "source": [
    "# Import necessary librairies\n",
    "import os\n",
    "\n",
    "import pandas as pd\n",
    "import numpy as np\n",
    "np.random.seed(42)\n",
    "import matplotlib.pyplot as plt\n",
    "\n",
    "from sklearn.model_selection import cross_val_score, StratifiedShuffleSplit, GridSearchCV, train_test_split,RandomizedSearchCV\n",
    "from sklearn.metrics import roc_curve, precision_recall_curve, confusion_matrix, average_precision_score, \\\n",
    "    classification_report, recall_score, f1_score, roc_auc_score, make_scorer, auc\n",
    "from sklearn.covariance import EmpiricalCovariance\n",
    "from sklearn.linear_model import LogisticRegression\n",
    "from sklearn.ensemble import RandomForestClassifier, BaggingClassifier, GradientBoostingClassifier\n",
    "from sklearn.inspection import permutation_importance\n",
    "from gensim.models import Word2Vec, KeyedVectors \n",
    "\n",
    "import seaborn as sns\n",
    "from sklearn.cluster import KMeans, AgglomerativeClustering, SpectralClustering, Birch, DBSCAN\n",
    "\n",
    "from w2v_clusters import WordClustering\n",
    "from pre_process import process\n",
    "\n",
    "import shap\n"
   ]
  },
  {
   "cell_type": "markdown",
   "metadata": {},
   "source": [
    "*Load and prepares EHRs for further processing*"
   ]
  },
  {
   "cell_type": "code",
   "execution_count": 3,
   "metadata": {},
   "outputs": [
    {
     "data": {
      "text/plain": [
       "0    920\n",
       "1    697\n",
       "Name: screenfail, dtype: int64"
      ]
     },
     "execution_count": 3,
     "metadata": {},
     "output_type": "execute_result"
    }
   ],
   "source": [
    "# Load EHRs\n",
    "df_all=pd.read_csv(os.path.join(\"./Data\", \"df_CRs_inclusion.csv\"), encoding='utf-8')\n",
    "df_all=df_all[df_all['CompleteValues']]\n",
    "\n",
    "# Separe Test and Train/Validation sets\n",
    "split = df_all['Cohort']\n",
    "\n",
    "ehr_raw_train_val=df_all[split!=\"Test\"].value.apply(str)\n",
    "ehr_raw_test=df_all[split==\"Test\"].value.apply(str)\n",
    "\n",
    "y_train_val=df_all.loc[split!=\"Test\"].screenfail\n",
    "y_test=df_all.loc[split==\"Test\"].screenfail\n",
    "pd.value_counts(y_train_val) # give numbers of ScreenFail in test and val cohort\n"
   ]
  },
  {
   "cell_type": "markdown",
   "metadata": {},
   "source": [
    "*Processing of EHRS*"
   ]
  },
  {
   "cell_type": "code",
   "execution_count": 5,
   "metadata": {},
   "outputs": [],
   "source": [
    "# Preprocessing using spacy: html,stopwords,ponctuation and lemmatisation\n",
    "  \n",
    "ehr_train_val=ehr_raw_train_val.apply(process)    \n",
    "ehr_test=ehr_raw_test.apply(process)    \n",
    "\n",
    "# Delete empty health records\n",
    "ehr_train_val = pd.DataFrame(data=ehr_train_val)\n",
    "ehr_test = pd.DataFrame(data=ehr_test)\n",
    "\n",
    "# Found index of null DafaFrames and delete them\n",
    "index_with_nan_train_val = ehr_train_val.index[ehr_train_val.isnull().any(axis=1)]\n",
    "index_with_nan_test = ehr_test.index[ehr_test.isnull().any(axis=1)]\n",
    "\n",
    "ehr_train_val=ehr_train_val.drop(index_with_nan_train_val,0, inplace=False)\n",
    "ehr_test=ehr_test.drop(index_with_nan_test,0, inplace=False)\n",
    "\n",
    "ehr_train_val=pd.Series(ehr_train_val.value) \n",
    "ehr_test=pd.Series(ehr_test.value)\n",
    "\n",
    "y_train_val=y_train_val.drop(index_with_nan_train_val,0, inplace=False)\n",
    "y_test=y_test.drop(index_with_nan_test,0, inplace=False)\n",
    "\n"
   ]
  },
  {
   "cell_type": "markdown",
   "metadata": {},
   "source": [
    "*Separe Training and validation test*"
   ]
  },
  {
   "cell_type": "code",
   "execution_count": 6,
   "metadata": {},
   "outputs": [],
   "source": [
    "split=split.drop(index_with_nan_train_val,0, inplace=False)\n",
    "index_val=split.index[split == \"Val\"].to_list()\n",
    "index_train=split.index[split == \"Train\"].to_list()\n",
    "DF_val=ehr_train_val[index_val]\n",
    "DF_train=ehr_train_val[index_train]\n",
    "\n",
    "y_val=y_train_val[index_val]\n",
    "y_train=y_train_val[index_train]"
   ]
  },
  {
   "cell_type": "markdown",
   "metadata": {},
   "source": [
    "*Initialisation of cross validation*"
   ]
  },
  {
   "cell_type": "code",
   "execution_count": 8,
   "metadata": {},
   "outputs": [],
   "source": [
    "# CV is then performed with StratifiedShuffleSplit funtion\n",
    "cv = StratifiedShuffleSplit(n_splits=5, test_size=len(DF_val)/(len(DF_val)+len(DF_train)), random_state=42)\n",
    "scoring = {'AUC': 'roc_auc','f1':'f1', 'Recall': 'recall'}"
   ]
  },
  {
   "cell_type": "markdown",
   "metadata": {},
   "source": [
    "*Transformation into cluster vectors*"
   ]
  },
  {
   "cell_type": "code",
   "execution_count": 12,
   "metadata": {},
   "outputs": [
    {
     "name": "stdout",
     "output_type": "stream",
     "text": [
      "oui\n"
     ]
    }
   ],
   "source": [
    "w2v_cluster = WordClustering( pretrained=True,\n",
    "                              model_path=\"w2v_model.kv\",\n",
    "                              n_clusters=300,\n",
    "                             clustering=AgglomerativeClustering())\n",
    "\n",
    "\n",
    "model_vectors =w2v_cluster.fit(ehr_train_val)\n",
    "\n",
    "ehrs_vec_train_val=model_vectors.transform(ehr_train_val)\n",
    "#x_w2v2_val=x_w2v.transform(DF_val) ?\n",
    "#x_w2v2_train=x_w2v.transform(DF_train) ?\n",
    "ehrs_vec_test=model_vectors.transform(ehr_test)"
   ]
  },
  {
   "cell_type": "markdown",
   "metadata": {},
   "source": [
    "*Random Forest and search for best parameters*"
   ]
  },
  {
   "cell_type": "code",
   "execution_count": 13,
   "metadata": {},
   "outputs": [
    {
     "name": "stdout",
     "output_type": "stream",
     "text": [
      "Fitting 5 folds for each of 1200 candidates, totalling 6000 fits\n"
     ]
    },
    {
     "name": "stderr",
     "output_type": "stream",
     "text": [
      "[Parallel(n_jobs=-1)]: Using backend LokyBackend with 8 concurrent workers.\n",
      "[Parallel(n_jobs=-1)]: Done  34 tasks      | elapsed:    6.6s\n",
      "[Parallel(n_jobs=-1)]: Done 184 tasks      | elapsed:   21.6s\n",
      "[Parallel(n_jobs=-1)]: Done 434 tasks      | elapsed:   51.5s\n",
      "[Parallel(n_jobs=-1)]: Done 784 tasks      | elapsed:  1.4min\n",
      "[Parallel(n_jobs=-1)]: Done 1234 tasks      | elapsed:  2.3min\n",
      "[Parallel(n_jobs=-1)]: Done 1784 tasks      | elapsed:  3.1min\n",
      "[Parallel(n_jobs=-1)]: Done 2434 tasks      | elapsed:  4.4min\n",
      "[Parallel(n_jobs=-1)]: Done 3184 tasks      | elapsed:  5.8min\n",
      "[Parallel(n_jobs=-1)]: Done 4034 tasks      | elapsed:  6.9min\n",
      "[Parallel(n_jobs=-1)]: Done 4984 tasks      | elapsed:  8.3min\n",
      "[Parallel(n_jobs=-1)]: Done 6000 out of 6000 | elapsed:  9.9min finished\n"
     ]
    }
   ],
   "source": [
    "\n",
    "rf = RandomForestClassifier(random_state=15)\n",
    "\n",
    "params = {'n_estimators': np.arange(5, 200, 1),\n",
    "          'max_features': ['log2', 'sqrt'],\n",
    "          'min_samples_leaf': np.arange(1E-8, 0.01, 1E-8)}\n",
    "\n",
    "grid = RandomizedSearchCV(rf,\n",
    "                    param_distributions=params,\n",
    "                    cv=cv,\n",
    "                    scoring=scoring,\n",
    "                    refit='Recall',\n",
    "                    return_train_score=False,\n",
    "                    verbose=1,\n",
    "                    n_jobs=-1,\n",
    "                    random_state=42,\n",
    "                    n_iter=1200)\n",
    "\n",
    "grid.fit(ehrs_vec_train_val, y_train_val)\n",
    "\n",
    "y_pred_train_val = grid.predict(ehrs_vec_train_val)\n"
   ]
  },
  {
   "cell_type": "markdown",
   "metadata": {},
   "source": [
    "Results"
   ]
  },
  {
   "cell_type": "code",
   "execution_count": 28,
   "metadata": {},
   "outputs": [
    {
     "name": "stdout",
     "output_type": "stream",
     "text": [
      "Results for test set  \n",
      "\n",
      "\n",
      "confusion matrix: [[140  19]\n",
      " [ 19  86]] \n",
      "\n",
      "score auc:  0.8961365678346811 \n",
      "\n",
      "score f1:  0.819047619047619 \n",
      "\n",
      "score recall:  0.819047619047619 \n",
      "\n",
      "Results for training and validation set  \n",
      "\n",
      "\n",
      "confusion matrix: [[866  35]\n",
      " [ 44 649]] \n",
      "\n",
      "score auc:  0.9879410883850396 \n",
      "\n",
      "score f1:  0.9426289034132171 \n",
      "\n",
      "score recall:  0.9365079365079365 \n",
      "\n"
     ]
    }
   ],
   "source": [
    "best_params=grid.best_params_ # store best parameters of the random forest\n",
    "\n",
    "y_pred_train_val = grid.predict(ehrs_vec_train_val)\n",
    "y_prob_train_val = grid.predict_proba(ehrs_vec_train_val) # get probabilities of each class\n",
    "\n",
    "y_pred_test = grid.predict(ehrs_vec_test)\n",
    "y_prob_test = grid.predict_proba(ehrs_vec_test)\n",
    "\n",
    "                                                           \n",
    "### Results for test set ###\n",
    "\n",
    "print(\"Results for test set \",\"\\n\\n\")\n",
    "\n",
    "mat_test=confusion_matrix(y_test, y_pred_test)\n",
    "print(\"confusion matrix:\" , mat_test,\"\\n\")\n",
    "\n",
    "fpr_test, tpr_test, threshold_test = roc_curve(y_test,y_prob_test[:,1])\n",
    "score_auc_test = auc(fpr_test,tpr_test)\n",
    "print(\"score auc: \",score_auc_test,\"\\n\")\n",
    "\n",
    "score_f1_test=f1_score(y_test, y_pred_test)\n",
    "print(\"score f1: \",score_f1_test,\"\\n\")\n",
    "\n",
    "score_recall_test=recall_score(y_test, y_pred_test)\n",
    "print(\"score recall: \",score_recall_test ,\"\\n\")\n",
    "\n",
    "### Results for train and validation set ###\n",
    "\n",
    "print(\"Results for training and validation set \",\"\\n\\n\")\n",
    "                                               \n",
    "mat_train_val=confusion_matrix(y_train_val, y_pred_train_val)\n",
    "print(\"confusion matrix:\",mat_train_val,\"\\n\")\n",
    "                                               \n",
    "fpr_train_val, tpr_train_val, threshold_train_val = roc_curve(y_train_val,y_prob_train_val[:,1])\n",
    "score_auc_train_val=auc(fpr_train_val,tpr_train_val)\n",
    "print(\"score auc: \",score_auc_train_val,\"\\n\")\n",
    "\n",
    "score_f1_train_val=f1_score(y_train_val, y_pred_train_val)\n",
    "print(\"score f1: \",score_f1_train_val,\"\\n\")\n",
    "\n",
    "score_recall_train_val=recall_score(y_train_val, y_pred_train_val)\n",
    "print(\"score recall: \",score_recall_train_val,\"\\n\")"
   ]
  },
  {
   "cell_type": "code",
   "execution_count": 40,
   "metadata": {},
   "outputs": [
    {
     "data": {
      "image/png": "[encoded data removed]",
      "text/plain": [
       "<Figure size 432x288 with 1 Axes>"
      ]
     },
     "metadata": {
      "needs_background": "light"
     },
     "output_type": "display_data"
    }
   ],
   "source": [
    "plt.title('Receiver Operating Characteristic')\n",
    "plt.plot(fpr_test, tpr_test, 'b', label = 'AUC = %0.2f' % score_auc_test)\n",
    "plt.legend(loc = 'lower right')\n",
    "plt.plot([0, 1], [0, 1],'r--')\n",
    "plt.xlim([0, 1])\n",
    "plt.ylim([0, 1])\n",
    "plt.ylabel('True Positive Rate')\n",
    "plt.xlabel('False Positive Rate')\n",
    "plt.savefig(\"./Plots/roc_curve\")\n",
    "plt.show()"
   ]
  },
  {
   "cell_type": "markdown",
   "metadata": {},
   "source": [
    "Interpretation"
   ]
  },
  {
   "cell_type": "code",
   "execution_count": 35,
   "metadata": {},
   "outputs": [
    {
     "name": "stderr",
     "output_type": "stream",
     "text": [
      "invalid value encountered in true_divide\n",
      "invalid value encountered in true_divide\n"
     ]
    },
    {
     "data": {
      "image/png": "[encoded data removed]",
      "text/plain": [
       "<Figure size 360x432 with 1 Axes>"
      ]
     },
     "metadata": {
      "needs_background": "light"
     },
     "output_type": "display_data"
    }
   ],
   "source": [
    "\n",
    "best_rf=grid.best_estimator_\n",
    "\n",
    "# Shap values\n",
    "\n",
    "DF_ehr_train_val=pd.DataFrame(ehrs_vec_train_val)\n",
    "DF_ehr_train_val.columns=range(300)\n",
    "\n",
    "shap_values = shap.TreeExplainer(best_rf).shap_values(DF_ehr_train_val)\n",
    "\n",
    "shap_values=np.array(shap_values)[0]\n",
    "explainer=shap.TreeExplainer(best_rf)\n",
    "\n",
    "# !!! Bout de code copié sur https://towardsdatascience.com/explain-your-model-with-the-shap-values-bc36aac4de3d\n",
    "###\n",
    "\n",
    "shap_v = pd.DataFrame(shap_values)\n",
    "feature_list = DF_ehr_train_val.columns\n",
    "shap_v.columns = feature_list\n",
    "df_v = DF_ehr_train_val.copy().reset_index().drop('index',axis=1)\n",
    "\n",
    "# Determine the correlation in order to plot with different colors\n",
    "corr_list = list()\n",
    "for i in feature_list:\n",
    "    b = np.corrcoef(shap_v[i],df_v[i])[1][0]\n",
    "    corr_list.append(b)\n",
    "corr_df = pd.concat([pd.Series(feature_list),pd.Series(corr_list)],axis=1).fillna(0)\n",
    "# Make a data frame. Column 1 is the feature, and Column 2 is the correlation coefficient\n",
    "corr_df.columns  = ['Variable','Corr']\n",
    "corr_df['Sign'] = np.where(corr_df['Corr']>0,'red','blue')\n",
    "\n",
    "# Plot it\n",
    "shap_abs = np.abs(shap_v)\n",
    "k=pd.DataFrame(shap_abs.mean()).reset_index()\n",
    "k.columns = ['Variable','SHAP_abs']\n",
    "k2 = k.merge(corr_df,left_on = 'Variable',right_on='Variable',how='inner')\n",
    "k2 = k2.sort_values(by='SHAP_abs',ascending = True)\n",
    "k2=k2[-20:]\n",
    "colorlist = k2['Sign']\n",
    "ax = k2.plot.barh(x='Variable',y='SHAP_abs',color = colorlist, figsize=(5,6),legend=False)\n",
    "ax.set_xlabel(\"SHAP Value (Red = Positive Impact)\")\n",
    "plt.savefig(\"./Plots/SHAP_values\") \n",
    "###"
   ]
  },
  {
   "cell_type": "code",
   "execution_count": null,
   "metadata": {},
   "outputs": [],
   "source": []
  }
 ],
 "metadata": {
  "kernelspec": {
   "display_name": "Python 3",
   "language": "python",
   "name": "python3"
  },
  "language_info": {
   "codemirror_mode": {
    "name": "ipython",
    "version": 3
   },
   "file_extension": ".py",
   "mimetype": "text/x-python",
   "name": "python",
   "nbconvert_exporter": "python",
   "pygments_lexer": "ipython3",
   "version": "3.7.6"
  }
 },
 "nbformat": 4,
 "nbformat_minor": 4
}
